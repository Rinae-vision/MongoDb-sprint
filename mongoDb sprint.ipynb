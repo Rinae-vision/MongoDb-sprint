{
 "cells": [
  {
   "cell_type": "code",
   "execution_count": null,
   "metadata": {},
   "outputs": [],
   "source": [
    "#Importing all the libraries that you will need\n",
    "import matplotlib.pyplot as plt; plt.rcdefaults()\n",
    "import matplotlib.pyplot as plt\n",
    "import numpy as np\n",
    "import pandas as pd\n",
    "from pandas import DataFrame\n",
    "\n",
    "#Importing mysql.connector so that you can connect to database\n",
    "import mysql.connector\n",
    "\n",
    "#Connect to the db\n",
    "mydb=mysql.connector.connect(\n",
    "    host=\"localhost\",\n",
    "    user=\"root\",\n",
    "    passwd=\"mokgalagadi.\",\n",
    "    database=\"sprint3\"\n",
    ")\n",
    "#Creatin cursor to navigate database\n",
    "dbcursor=mydb.cursor()\n",
    "#Fetchin columns from database using SQL\n",
    "dbcursor.execute(\"SELECT `supermaket`.`ItemAmount` FROM supermaket\")\n",
    "Quantity=mycursor.fetchall()\n",
    "#Put the data in a lists\n",
    "y=[]\n",
    "for row in ItemAmount:\n",
    "    y.extend(row)\n",
    "print(y)\n",
    "mycursor.execute(\"SELECT `supermaket`.`Items` FROM supermaket\")\n",
    "Products=mycursor.fetchall()\n",
    "x=[]\n",
    "for row in Items:\n",
    "    x.extend(row)\n",
    "print(x)    \n",
    "y_pos=np.arange(7)\n",
    "#Drawing the graph\n",
    "supermaket.plot(x ='Product', y='Quantity', kind = 'bar',color = 'blue')\n",
    "plt.title('Products vs Quantity available')\n",
    "plt.ylabel('Quantity available')\n",
    "plt.xlabel('Product')\n",
    "plt.show()"
   ]
  }
 ],
 "metadata": {
  "kernelspec": {
   "display_name": "Python 3",
   "language": "python",
   "name": "python3"
  },
  "language_info": {
   "codemirror_mode": {
    "name": "ipython",
    "version": 3
   },
   "file_extension": ".py",
   "mimetype": "text/x-python",
   "name": "python",
   "nbconvert_exporter": "python",
   "pygments_lexer": "ipython3",
   "version": "3.7.6"
  }
 },
 "nbformat": 4,
 "nbformat_minor": 2
}
